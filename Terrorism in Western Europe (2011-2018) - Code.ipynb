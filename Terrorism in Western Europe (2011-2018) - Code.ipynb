{
 "cells": [
  {
   "cell_type": "markdown",
   "metadata": {},
   "source": [
    "# DATS 6103 - Individual Project 2 - Piolini Andrea\n",
    "\n",
    "## Introduction\n",
    "\n",
    "This project is a data mining analysis that aims to make a comparison between jihadist terrorist attacks and non-jihadist terrorist attacks in Western Europe from January 1, 2011 to December 31, 2018. Jihadist attacks are defined as all the attacks perpetrated by an individual or a group inspired by the Salafist and jihadist propaganda and ideology, regardless of if they were officially affiliated with a terrorist group or they acted as “lone wolves”. The category of non-jihadist attacks comprises all the attacks perpetrated by individuals or groups motivated by any different kind of ideology, including nationalist, racial, separatist and non-Islamic religious motives. The analysis compares four main factors: the countries where the attacks took place, the modus operandi of the terrorists, their targets and number of fatalities. The Western Europe area does not include all the members of the European Union, since some of them are located in Eastern Europe, and it includes some countries that are not members of the Union, such as Switzerland and Norway. Moreover, this analysis does not take into consideration the terrorist plots disrupted by the authorities, but instead focuses exclusively on the attacks that actually took place, whether successful or not. \n",
    "\n",
    "This research considers the data starting from 2011 because it is considered a transition year for jihadism in Western Europe, as well as jihadism in general. Indeed, in 2011 there was widespread optimism among European security agencies due to the perception that jihadism had become a spent force, which was no longer able to perpetrate deadly attacks in Western Europe. However, this perception was completely shattered when the Arab Spring deteriorated into a jihadist front and the civil war in Syria became an unprecedented magnet for jihadist groups and foreign fighters. The Syrian conflict became a game changer for jihadism and the birth of Islamic State of Iraq and Syria (ISIS) within the war increased its international echo. \n",
    "\n",
    "The data this project is based on was retrieved from the Global Terrorism Database, an open-source database maintained by the National Consortium for the Study of Terrorism and Responses to Terrorism at the University of Maryland, College Park, in the United States. As of October 2019, the database includes information on over 190,000 terrorist events occurred around the world from 1970 to 2018. \n",
    "\n",
    "### Project's Goal and Structure\n",
    "\n",
    "The project seek to make a comparison between jihadist and non-jihadist terrorist attacks in Western Europe to find out if there are patterns and/or associations related to the countries where the attacks took place, the modus operandi, the targets and the number of fatalities caused by the attacks. \n",
    "\n",
    "This project is divided in the following sections:\n",
    "\n",
    "-\tData Cleaning Process and Preliminary Analysis \n",
    "-\tPart 1: Comparison by Country\n",
    "-\tPart 2: Comparison by Modus Operandi\n",
    "-\tPart 3: Comparison by Types of Targets\n",
    "-\tPart 4: Comparison by Fatalities\n",
    "-\tMaps \n",
    "-\tConclusions"
   ]
  },
  {
   "cell_type": "markdown",
   "metadata": {},
   "source": [
    "## Data Cleaning Process and Preliminary Analysis"
   ]
  },
  {
   "cell_type": "code",
   "execution_count": null,
   "metadata": {},
   "outputs": [],
   "source": [
    "#importing the libraries\n",
    "import pandas as pd\n",
    "import matplotlib.pyplot as plt\n",
    "import plotly\n",
    "import chart_studio.plotly as py\n",
    "import plotly.graph_objs as go\n",
    "import plotly.tools as tls\n",
    "import plotly.express as px\n",
    "import warnings\n",
    "warnings.filterwarnings('ignore')"
   ]
  },
  {
   "cell_type": "code",
   "execution_count": null,
   "metadata": {},
   "outputs": [],
   "source": [
    "#loading the data\n",
    "GTD = pd.read_excel('GTD1.xlsx')"
   ]
  },
  {
   "cell_type": "code",
   "execution_count": null,
   "metadata": {},
   "outputs": [],
   "source": [
    "GTD.head()"
   ]
  },
  {
   "cell_type": "code",
   "execution_count": null,
   "metadata": {},
   "outputs": [],
   "source": [
    "#looking at datatypes\n",
    "GTD.dtypes"
   ]
  },
  {
   "cell_type": "code",
   "execution_count": null,
   "metadata": {},
   "outputs": [],
   "source": [
    "#getting the shape of the data\n",
    "GTD.shape"
   ]
  },
  {
   "cell_type": "code",
   "execution_count": null,
   "metadata": {},
   "outputs": [],
   "source": [
    "#cleaning the data\n",
    "GTD.rename(columns ={'iyear' : 'Year', 'country_txt' : 'Country', 'region_txt' : 'Region', 'city' : 'City', 'latitude' : 'Latitude', 'longitude' : 'Longitude', 'attacktype1_txt' : 'Attack Type', 'attacktype2_txt' : 'Attack Type 2', 'targtype1_txt' : 'Target Type', 'targtype2_txt' : 'Target Type 2', 'gname' : 'Group Name', 'weaptype1_txt' : 'Weapon Type', 'nkill' : 'Number of People Killed', 'nwound' : 'Number of People Wounded'}, inplace = True)\n",
    "GTD = GTD.ix[:, ['Year', 'Country', 'Region', 'City', 'Latitude', 'Longitude', 'Attack Type', 'Attack Type 2', 'Target Type', 'Target Type 2', 'Group Name', 'Weapon Type', 'Number of People Killed', 'Number of People Wounded']]\n",
    "GTD.head()"
   ]
  },
  {
   "cell_type": "code",
   "execution_count": null,
   "metadata": {},
   "outputs": [],
   "source": [
    "GTD.tail()"
   ]
  },
  {
   "cell_type": "code",
   "execution_count": null,
   "metadata": {},
   "outputs": [],
   "source": [
    "#Getting the countries in Western Europe for the years between 2011 and 2018, included\n",
    "GTD = GTD[(GTD.Year >= 2011) & (GTD.Year <= 2018) & (GTD.Region == 'Western Europe')]\n",
    "GTD.head()"
   ]
  },
  {
   "cell_type": "code",
   "execution_count": null,
   "metadata": {},
   "outputs": [],
   "source": [
    "GTD.tail()"
   ]
  },
  {
   "cell_type": "code",
   "execution_count": null,
   "metadata": {},
   "outputs": [],
   "source": [
    "GTD.shape"
   ]
  },
  {
   "cell_type": "code",
   "execution_count": null,
   "metadata": {},
   "outputs": [],
   "source": [
    "#creating a new data frame GTD_no_names to compare the number of attacks perpetrated by unknown and known groups\n",
    "GTD_no_names = GTD.copy()\n",
    "GTD_no_names.loc[GTD['Group Name'] != 'Unknown', GTD_no_names.columns[10]] = 'Known Group'\n",
    "GTD_no_names.head(10)"
   ]
  },
  {
   "cell_type": "code",
   "execution_count": null,
   "metadata": {},
   "outputs": [],
   "source": [
    "GTD_no_names.tail()"
   ]
  },
  {
   "cell_type": "code",
   "execution_count": null,
   "metadata": {},
   "outputs": [],
   "source": [
    "#creating a list to plot the number of attacks by known and unknow groups\n",
    "totalnumberattacks = len(GTD_no_names)\n",
    "numberunknownattacks = len(GTD_no_names[GTD_no_names['Group Name'] == 'Unknown'])\n",
    "numberknownattacks = len(GTD_no_names[GTD_no_names['Group Name'] != 'Unknown'])\n",
    "numberunknownattacks\n",
    "totalnumberattacks = [numberunknownattacks, numberknownattacks]\n",
    "totalnumberattacks"
   ]
  },
  {
   "cell_type": "code",
   "execution_count": null,
   "metadata": {},
   "outputs": [],
   "source": [
    "#plotting unknown and know attacks in percentages\n",
    "plt.figure(figsize=(7,7))\n",
    "\n",
    "labels = ['Unknown Group', 'Known Group']\n",
    "colors = ['Chocolate', 'Khaki']\n",
    "plt.legend()\n",
    "plt.pie(totalnumberattacks, colors = colors, labels=labels, shadow = True, startangle = 140, autopct='%1.1f%%')\n",
    "plt.title('Number of Terrorist Attacks Perpetrated by Known And Unknown Groups', fontsize=16)\n",
    "plt.show()"
   ]
  },
  {
   "cell_type": "code",
   "execution_count": null,
   "metadata": {},
   "outputs": [],
   "source": [
    "#removing unknown perpetrators\n",
    "GTD = GTD[GTD['Group Name'] != 'Unknown']\n",
    "GTD"
   ]
  },
  {
   "cell_type": "code",
   "execution_count": null,
   "metadata": {},
   "outputs": [],
   "source": [
    "GTD.shape"
   ]
  },
  {
   "cell_type": "code",
   "execution_count": null,
   "metadata": {},
   "outputs": [],
   "source": [
    "#looking at the terrorist groups\n",
    "GTD['Group Name'].count"
   ]
  },
  {
   "cell_type": "code",
   "execution_count": null,
   "metadata": {
    "scrolled": false
   },
   "outputs": [],
   "source": [
    "#displaying all the terrorist groups \n",
    "pd.set_option('display.max_rows', 200)\n",
    "GroupNames = GTD.groupby('Group Name').size()\n",
    "GroupNames"
   ]
  },
  {
   "cell_type": "code",
   "execution_count": null,
   "metadata": {},
   "outputs": [],
   "source": [
    "#making another copy of GTD and including all the islamist groups in a macro group called Islamist/Jihadist\n",
    "GTD_Jihad_non_Jihad = GTD.copy()\n",
    "Jihadist_Groups = ['Al-Qaida in the Arabian Peninsula (AQAP)', 'Islamic State of Iraq and the Levant (ISIL)', 'Jihadi-inspired extremists', 'Muslim extremists', 'Sunni Muslim extremists']\n",
    "\n",
    "#looping in the jihadist groups to change their name to Islamist/Jihadist\n",
    "for group in Jihadist_Groups:\n",
    "    GTD_Jihad_non_Jihad.loc[GTD['Group Name'] == group, GTD_no_names.columns[10]] = 'Islamist/Jihadist'   \n",
    "GTD_Jihad_non_Jihad.groupby('Group Name').size()"
   ]
  },
  {
   "cell_type": "code",
   "execution_count": null,
   "metadata": {},
   "outputs": [],
   "source": [
    "#creating another macro group called Non-Jihadist\n",
    "GTD_Jihad_non_Jihad.loc[GTD_Jihad_non_Jihad['Group Name'] != 'Islamist/Jihadist', GTD_no_names.columns[10]] = 'Non-Jihadist'\n",
    "GTD_Jihad_non_Jihad.groupby('Group Name').size()"
   ]
  },
  {
   "cell_type": "code",
   "execution_count": null,
   "metadata": {},
   "outputs": [],
   "source": [
    "#creating a list to plot the number of attacks by jihadist and non-jihadist groups\n",
    "numberjihadistattacks = len(GTD_Jihad_non_Jihad[GTD_Jihad_non_Jihad['Group Name'] == 'Islamist/Jihadist'])\n",
    "numberotherattacks = len(GTD_Jihad_non_Jihad[GTD_Jihad_non_Jihad['Group Name'] == 'Non-Jihadist'])\n",
    "totalnumberknownattacks = [numberjihadistattacks, numberotherattacks]\n",
    "totalnumberknownattacks"
   ]
  },
  {
   "cell_type": "code",
   "execution_count": null,
   "metadata": {},
   "outputs": [],
   "source": [
    "#plotting the number of attacks by known and unknow groups\n",
    "\n",
    "plt.figure(figsize=(7,7))\n",
    "\n",
    "labels = ['Islamist/Jihadist', 'Non-Jihadist']\n",
    "colors = ['Forestgreen', 'Silver']\n",
    "plt.legend()\n",
    "plt.pie(totalnumberknownattacks, colors = colors, labels=labels, shadow = True, startangle = 140, autopct='%1.1f%%')\n",
    "plt.title('Number of Terrorist Attacks Perpetrated by Jihadist and Non-Jihadist Groups', fontsize=16)\n",
    "plt.show()"
   ]
  },
  {
   "cell_type": "code",
   "execution_count": null,
   "metadata": {},
   "outputs": [],
   "source": [
    "#creating a new column Number of Terrorist Attacks to calculate the total number of attack in GTD_Jihad_non_Jihad\n",
    "GTD_Jihad_non_Jihad['Number of Terrorist Attacks'] = 1"
   ]
  },
  {
   "cell_type": "code",
   "execution_count": null,
   "metadata": {},
   "outputs": [],
   "source": [
    "totnumberattacks = GTD_Jihad_non_Jihad['Number of Terrorist Attacks'].sum()\n",
    "totnumberattacks"
   ]
  },
  {
   "cell_type": "code",
   "execution_count": null,
   "metadata": {},
   "outputs": [],
   "source": [
    "#changing the Year format from integer to datetime\n",
    "pd.to_datetime(GTD_Jihad_non_Jihad.Year, format = '%Y')"
   ]
  },
  {
   "cell_type": "code",
   "execution_count": null,
   "metadata": {},
   "outputs": [],
   "source": [
    "#creating a frequency table that displays the number of jihadist and non-jihadist attacks per year\n",
    "ByYear = pd.crosstab(GTD_Jihad_non_Jihad['Year'], GTD_Jihad_non_Jihad['Group Name'])\n",
    "ByYear = pd.DataFrame(ByYear)\n",
    "ByYear"
   ]
  },
  {
   "cell_type": "code",
   "execution_count": null,
   "metadata": {},
   "outputs": [],
   "source": [
    "#plotting the numbers of jihadist and non-jihadist terrorist attacks over the years \n",
    "colors = ['#228B22', '#C0C0C0']\n",
    "ax = ByYear.plot(colors = colors, figsize= (20,10), fontsize = 13, linewidth = 3.0)\n",
    "plt.legend(loc='best', fontsize = 13)\n",
    "ax.set_xlabel('Year', fontsize = 13)\n",
    "ax.set_ylabel('Number of Attacks', fontsize = 13)\n",
    "plt.title('Number of Terrorist Attacks Perpetrated by Jihadist and Non-Jihadist Groups Over Time', fontsize = 16)\n",
    "plt.show()"
   ]
  },
  {
   "cell_type": "markdown",
   "metadata": {},
   "source": [
    "## Comparison by Country\n",
    "\n",
    "From this section on, I just consider the attacks perpetrated by known terrorist groups"
   ]
  },
  {
   "cell_type": "code",
   "execution_count": null,
   "metadata": {},
   "outputs": [],
   "source": [
    "#creating a frequency table that displays the number of jihadist and non-jihadist attacks per country\n",
    "ByCountry = pd.crosstab(GTD_Jihad_non_Jihad['Country'], GTD_Jihad_non_Jihad['Group Name'])\n",
    "ByCountry = pd.DataFrame(ByCountry)\n",
    "ByCountry"
   ]
  },
  {
   "cell_type": "code",
   "execution_count": null,
   "metadata": {},
   "outputs": [],
   "source": [
    "#plotting the numbers of jihadist and non-jihadist terrorist attacks by country \n",
    "colors = ['#228B22', '#C0C0C0']\n",
    "ax = ByCountry.plot(kind = 'barh', color = colors, figsize= (20,10), fontsize = 13)\n",
    "plt.legend(loc='best', fontsize = 13)\n",
    "ax.set_xlabel('Number of Attacks', fontsize = 13)\n",
    "ax.set_ylabel('Country', fontsize = 13)\n",
    "plt.title('Number of Terrorist Attacks Perpetrated by Jihadist and Non-Jihadist Groups by Country', fontsize = 16)\n",
    "plt.show()"
   ]
  },
  {
   "cell_type": "code",
   "execution_count": null,
   "metadata": {},
   "outputs": [],
   "source": [
    "#plotting the numbers of jihadist terrorist attacks by country\n",
    "#creating a new dataframe df1 without the non-jihadist attacks first\n",
    "df1 = ByCountry.drop('Non-Jihadist', axis = 1)\n",
    "df1 = df1.sort_values(by = 'Islamist/Jihadist')\n",
    "df1 = df1[(df1.T != 0).any()] #eliminating the 0s so they won't appear in the graph later\n",
    "df1"
   ]
  },
  {
   "cell_type": "code",
   "execution_count": null,
   "metadata": {},
   "outputs": [],
   "source": [
    "#plotting df1\n",
    "colors = ['#228B22']\n",
    "\n",
    "ax = df1.plot(kind = 'barh', color = colors, figsize= (20,10), fontsize = 13, legend = None)\n",
    "ax.set_xlabel('Number of Attacks', fontsize = 13)\n",
    "ax.set_ylabel('Country', fontsize = 13)\n",
    "plt.title('Number of Terrorist Attacks Perpetrated by Jihadist Groups by Country', fontsize = 16)\n",
    "plt.show()"
   ]
  },
  {
   "cell_type": "code",
   "execution_count": null,
   "metadata": {},
   "outputs": [],
   "source": [
    "#plotting the numbers of non-jihadist terroist attacks by country \n",
    "#creating a new dataframe df2 without the jihadist attacks\n",
    "df2 = ByCountry.drop('Islamist/Jihadist', axis = 1)\n",
    "df2 = df2.sort_values(by = 'Non-Jihadist')\n",
    "df2 = df2[(df2.T != 0).any()] #eliminating the 0s so they won't appear in the graph later\n",
    "df2"
   ]
  },
  {
   "cell_type": "code",
   "execution_count": null,
   "metadata": {},
   "outputs": [],
   "source": [
    "#plotting df2\n",
    "colors = ['#C0C0C0']\n",
    "\n",
    "ax = df2.plot(kind = 'barh', color = colors, figsize= (20,10),  fontsize = 13, legend = None)\n",
    "ax.set_xlabel('Number of Attacks', fontsize = 13)\n",
    "ax.set_ylabel('Country', fontsize = 13)\n",
    "plt.title('Number of Terrorist Attacks Perpetrated by Non-Jihadist Groups by Country', fontsize = 16)\n",
    "plt.show()"
   ]
  },
  {
   "cell_type": "markdown",
   "metadata": {},
   "source": [
    "## Comparison by Modus Operandi"
   ]
  },
  {
   "cell_type": "code",
   "execution_count": null,
   "metadata": {},
   "outputs": [],
   "source": [
    "#displaying all the modus operandi \n",
    "pd.set_option('display.max_rows', 200)\n",
    "AttackTypes = GTD.groupby('Attack Type').size()\n",
    "AttackTypes"
   ]
  },
  {
   "cell_type": "code",
   "execution_count": null,
   "metadata": {},
   "outputs": [],
   "source": [
    "#displaying all the secondary types of attacks from the column Attacks Type 2\n",
    "pd.set_option('display.max_rows', 200)\n",
    "AttackTypes = GTD.groupby('Attack Type 2').size()\n",
    "AttackTypes"
   ]
  },
  {
   "cell_type": "code",
   "execution_count": null,
   "metadata": {},
   "outputs": [],
   "source": [
    "#converting NaN to a string 'None'\n",
    "GTD_Jihad_non_Jihad = GTD_Jihad_non_Jihad.fillna('None')\n",
    "GTD_Jihad_non_Jihad"
   ]
  },
  {
   "cell_type": "code",
   "execution_count": null,
   "metadata": {},
   "outputs": [],
   "source": [
    "#changing the name of the values in the column Attack Type 1 to Mixed Type for the attacks that also have a secondary type of attack\n",
    "GTD_Jihad_non_Jihad.loc[GTD_Jihad_non_Jihad['Attack Type 2'] != 'None', GTD_no_names.columns[6]] = 'Mixed Type'\n",
    "AttackTypes = GTD_Jihad_non_Jihad.groupby('Attack Type').size()\n",
    "AttackTypes"
   ]
  },
  {
   "cell_type": "code",
   "execution_count": null,
   "metadata": {},
   "outputs": [],
   "source": [
    "#creating a frequency table that displays the modus operandi used by jihadist and non-jihadist groups\n",
    "ByAttackType = pd.crosstab(GTD_Jihad_non_Jihad['Attack Type'], GTD_Jihad_non_Jihad['Group Name'])\n",
    "ByAttackType = pd.DataFrame(ByAttackType)\n",
    "ByAttackType"
   ]
  },
  {
   "cell_type": "code",
   "execution_count": null,
   "metadata": {},
   "outputs": [],
   "source": [
    "#plotting the types of attack \n",
    "colors = ['#228B22', '#C0C0C0']\n",
    "ax = ByAttackType.plot(kind = 'bar', color = colors, figsize= (20,10), fontsize = 13)\n",
    "plt.legend(loc='best', fontsize = 13)\n",
    "ax.set_xlabel('Attack Type', fontsize = 13)\n",
    "ax.set_ylabel('Number of Attacks', fontsize = 13)\n",
    "plt.title('Number of Terrorist Attacks Perpetrated by Jihadist and Non-Jihadist Groups by Type of Attack', fontsize = 16)\n",
    "plt.show()"
   ]
  },
  {
   "cell_type": "code",
   "execution_count": null,
   "metadata": {},
   "outputs": [],
   "source": [
    "#plotting the numbers of jihadist terrorist attacks by country\n",
    "#creating a new dataframe df3 without the non-jihadist attacks first\n",
    "df3 = ByAttackType.drop('Non-Jihadist', axis = 1)\n",
    "df3 = df3[(df3.T != 0).any()] #eliminating the 0s so they won't appear in the pie chart later\n",
    "df3"
   ]
  },
  {
   "cell_type": "code",
   "execution_count": null,
   "metadata": {},
   "outputs": [],
   "source": [
    "#plotting the numbers of non-jihadist terroist attacks by country \n",
    "#creating a new dataframe df4 without the jihadist attacks\n",
    "df4 = ByAttackType.drop('Islamist/Jihadist', axis = 1)\n",
    "df4 = df4[(df4.T != 0).any()] #eliminating the 0s so they won't appear in the pie chart later\n",
    "df4"
   ]
  },
  {
   "cell_type": "code",
   "execution_count": null,
   "metadata": {
    "scrolled": false
   },
   "outputs": [],
   "source": [
    "#plotting df3 and df4 using a pie chart to see percentages\n",
    "colors1 = ['Red', 'Orange', 'Darkkhaki', 'Lightseagreen', 'Mediumvioletred', 'Palevioletred', 'Grey', 'Gold']\n",
    "df3.plot(kind='pie', colors = colors1, figsize = (12,12), shadow = True, startangle = 140, \n",
    "         autopct='%1.1f%%', subplots=True, labels=None, wedgeprops={'linewidth' : 2, 'edgecolor' : \"white\"}, \n",
    "         explode=(0.1,0,0,0,0,0,0,0))\n",
    "labels1 = ['Armed Assault', 'Bombing/Explosion', 'Facility/Infrastructure Attack', 'Hijacking', 'Hostage Taking (Barricade Incident)', 'Hostage Taking (Kidnapping)', 'Mixed Type', ' Unarmed Assault']\n",
    "plt.title('Modus Operandi Used by Jihadist Groups', fontsize=16)\n",
    "plt.ylabel('')\n",
    "plt.legend(labels1)\n",
    "plt.show()\n",
    "\n",
    "plt.figure(figsize=(10,10))\n",
    "\n",
    "colors2 = ['Red','Darkgreen', 'Orange', 'Darkkhaki', 'Lightseagreen', 'Mediumvioletred', 'Grey', 'Gold','Yellowgreen']\n",
    "df4.plot(kind='pie', colors = colors2, figsize = (14,14), startangle = 140, autopct='%1.1f%%', shadow= True, \n",
    "         subplots=True, labels=None,  wedgeprops={'linewidth' : 2, 'edgecolor' : \"white\"}, explode=(0,0,0.1,0.1,0,0,0,0,0))\n",
    "labels2 = ['Armed Assault', 'Assassination', 'Bombing/Explosion', 'Facility/Infrastructure Attack', 'Hijacking', 'Hostage Taking (Kidnapping)', 'Mixed Type', ' Unarmed Assault', 'Unknown']\n",
    "plt.title('Modus Operandi Used by Non-Jihadist Groups', fontsize=16)\n",
    "plt.ylabel('')\n",
    "plt.legend(labels2)\n",
    "plt.show() "
   ]
  },
  {
   "cell_type": "markdown",
   "metadata": {},
   "source": [
    "## Comparison by Target"
   ]
  },
  {
   "cell_type": "code",
   "execution_count": null,
   "metadata": {},
   "outputs": [],
   "source": [
    "#changing the name of the values in the column Target Type 1 to Multiple Targets for the attacks that had different types of targets \n",
    "GTD_Jihad_non_Jihad.loc[GTD_Jihad_non_Jihad['Target Type 2'] != 'None', GTD_no_names.columns[8]] = 'Multiple Targets'\n",
    "TargetTypes = GTD_Jihad_non_Jihad.groupby('Target Type').size()\n",
    "TargetTypes"
   ]
  },
  {
   "cell_type": "code",
   "execution_count": null,
   "metadata": {},
   "outputs": [],
   "source": [
    "GTD_Jihad_non_Jihad"
   ]
  },
  {
   "cell_type": "code",
   "execution_count": null,
   "metadata": {},
   "outputs": [],
   "source": [
    "#creating a frequency table that displays the diefferent targets of the attacks\n",
    "ByTarget = pd.crosstab(GTD_Jihad_non_Jihad['Target Type'], GTD_Jihad_non_Jihad['Group Name'])\n",
    "ByTarget = pd.DataFrame(ByTarget)\n",
    "ByTarget"
   ]
  },
  {
   "cell_type": "code",
   "execution_count": null,
   "metadata": {},
   "outputs": [],
   "source": [
    "#plotting the target types \n",
    "colors = ['#228B22', '#C0C0C0']\n",
    "\n",
    "ax = ByTarget.plot(kind = 'bar', color = colors, figsize= (20,10), fontsize = 13)\n",
    "plt.legend(loc='best', fontsize = 13)\n",
    "ax.set_xlabel('Target Type', fontsize = 13)\n",
    "ax.set_ylabel('Number of Attacks', fontsize = 13)\n",
    "plt.title('Target Types Hit by Jihadist and Non-Jihadist Attacks', fontsize= 16)\n",
    "plt.show()"
   ]
  },
  {
   "cell_type": "code",
   "execution_count": null,
   "metadata": {},
   "outputs": [],
   "source": [
    "#plotting the numbers of jihadist terrorist attacks by country\n",
    "#creating a new dataframe df5 without the non-jihadist attacks first\n",
    "df5 = ByTarget.drop('Non-Jihadist', axis = 1)\n",
    "df5 = df5[(df5.T != 0).any()]\n",
    "df5 = df5.sort_values(by = 'Islamist/Jihadist')\n",
    "df5"
   ]
  },
  {
   "cell_type": "code",
   "execution_count": null,
   "metadata": {},
   "outputs": [],
   "source": [
    "#plotting the numbers of non-jihadist terroist attacks by country \n",
    "#creating a new dataframe df6 without the jihadist attacks\n",
    "df6 = ByTarget.drop('Islamist/Jihadist', axis = 1)\n",
    "df6 = df6[(df6.T != 0).any()] \n",
    "df6 = df6.sort_values(by = 'Non-Jihadist')\n",
    "df6"
   ]
  },
  {
   "cell_type": "code",
   "execution_count": null,
   "metadata": {},
   "outputs": [],
   "source": [
    "#plotting df5 and df6\n",
    "colors = ['#228B22']\n",
    "\n",
    "df5.plot(kind = 'barh', color = colors, figsize = (20,10),  fontsize = 13, legend = None)\n",
    "plt.xlabel('Number of Attacks',  fontsize = 13)\n",
    "plt.ylabel('Target Type',  fontsize = 13)\n",
    "plt.title('Types of Targets Hit by Jihadist Terrorist Attacks',  fontsize = 16)\n",
    "plt.show()\n",
    "\n",
    "color = ['#C0C0C0']\n",
    "\n",
    "df6.plot(kind = 'barh', color = color, figsize = (20,10),  fontsize = 13, legend = None)\n",
    "plt.xlabel('Number of Attacks',  fontsize = 13)\n",
    "plt.ylabel('Target Type',  fontsize = 13)\n",
    "plt.title('Types of Targets Hit by Non-Jihadist Terrorist Attacks',  fontsize = 16)\n",
    "plt.show()"
   ]
  },
  {
   "cell_type": "markdown",
   "metadata": {},
   "source": [
    "## Comparison by Killings"
   ]
  },
  {
   "cell_type": "code",
   "execution_count": null,
   "metadata": {},
   "outputs": [],
   "source": [
    "#converting the Number of People Killed column from float to integer\n",
    "GTD_Jihad_non_Jihad['Number of People Killed'] = GTD_Jihad_non_Jihad['Number of People Killed'].astype(int)\n",
    "GTD_Jihad_non_Jihad"
   ]
  },
  {
   "cell_type": "code",
   "execution_count": null,
   "metadata": {},
   "outputs": [],
   "source": [
    "#summing the number of fatalities for Jihadist and Non-Jihadist attacks\n",
    "ByKilling = GTD_Jihad_non_Jihad.groupby('Group Name').sum()\n",
    "ByKilling = ByKilling.drop('Year', axis = 1) #dropping the unnecessary columns\n",
    "ByKilling = ByKilling.drop('Latitude', axis = 1)\n",
    "ByKilling = ByKilling.drop('Longitude', axis = 1)\n",
    "ByKilling"
   ]
  },
  {
   "cell_type": "code",
   "execution_count": null,
   "metadata": {},
   "outputs": [],
   "source": [
    "#creating a new column called Ratio displaying the average number of fatalities per single terrorist attack\n",
    "ByKilling['Ratio'] = ByKilling['Number of People Killed'] / ByKilling['Number of Terrorist Attacks']\n",
    "ByKilling"
   ]
  },
  {
   "cell_type": "code",
   "execution_count": null,
   "metadata": {},
   "outputs": [],
   "source": [
    "#plotting the data frame ByKilling in a pie chart to compare the number of fatalities caused by the two groups in percentages\n",
    "ByKilling = ByKilling.drop(['Number of Terrorist Attacks', 'Ratio'], axis = 1)\n",
    "\n",
    "colors = ['Forestgreen', 'Silver']\n",
    "ByKilling.plot(kind = 'pie', colors = colors, figsize = (7,7), subplots = True, \n",
    "               legend = False, shadow = True, startangle = 140, autopct='%1.1f%%')\n",
    "labels = ['Islamist/Jihadist', 'Non-Jihadist']\n",
    "plt.ylabel('')\n",
    "plt.title('Fatalities Caused by Jihadist and Non-Jihadist Attacks', fontsize= 15)\n",
    "plt.show()"
   ]
  },
  {
   "cell_type": "code",
   "execution_count": null,
   "metadata": {},
   "outputs": [],
   "source": [
    "#creating a new data frame ByKillingYear to compare the number of terrorist attacks and the number of people killed per year\n",
    "ByKillingYear = GTD_Jihad_non_Jihad.groupby('Year').sum()\n",
    "ByKillingYear"
   ]
  },
  {
   "cell_type": "code",
   "execution_count": null,
   "metadata": {},
   "outputs": [],
   "source": [
    "#adding the number of attacks perpetrated by the two groups per year\n",
    "ByKillingYear = pd.concat([ByKillingYear, ByYear], axis = 1)\n",
    "ByKillingYear"
   ]
  },
  {
   "cell_type": "code",
   "execution_count": null,
   "metadata": {},
   "outputs": [],
   "source": [
    "#dropping the columns Latitude and Longitude because they are not needed\n",
    "ByKillingYear = ByKillingYear.drop('Latitude', axis = 1)\n",
    "ByKillingYear = ByKillingYear.drop('Longitude', axis = 1)\n",
    "ByKillingYear"
   ]
  },
  {
   "cell_type": "code",
   "execution_count": null,
   "metadata": {},
   "outputs": [],
   "source": [
    "#plotting ByKillingYear\n",
    "colors = ['Black', 'Orange', 'Forestgreen', 'Silver']\n",
    "ax = ByKillingYear.plot(color = colors, figsize= (20,10), fontsize = 13, linewidth = 3.0)\n",
    "plt.legend(loc='best', fontsize = 13)\n",
    "ax.set_xlabel('Year', fontsize = 13)\n",
    "ax.set_ylabel('Number', fontsize = 13)\n",
    "plt.title('Number of Terrorist Attacks and Total Number People Killed Over Time', fontsize= 16)\n",
    "plt.show()"
   ]
  },
  {
   "cell_type": "code",
   "execution_count": null,
   "metadata": {},
   "outputs": [],
   "source": [
    "#creating a new data frame OnlyJihad containing only the attacks perpetrated by Islamist groups\n",
    "#grouping OnlyJihad by year and getting rid of the unnecessary columns\n",
    "OnlyJihad = GTD_Jihad_non_Jihad.loc[GTD_Jihad_non_Jihad['Group Name'] == 'Islamist/Jihadist']\n",
    "JihadKillingsYears = OnlyJihad.groupby('Year').sum()\n",
    "JihadKillingsYears = JihadKillingsYears.drop(['Latitude', 'Longitude', 'Number of Terrorist Attacks'], axis = 1)\n",
    "\n",
    "#creating a new data frame OnlyNonJihad containing only the attacks perpetrated by Islamist groups\n",
    "OnlyNonJihad = GTD_Jihad_non_Jihad.loc[GTD_Jihad_non_Jihad['Group Name'] == 'Non-Jihadist']\n",
    "\n",
    "#grouping OnlyNonJihad by year and getting rid of the unnecessary columns\n",
    "NonJihadKillingsYears = OnlyNonJihad.groupby('Year').sum()\n",
    "NonJihadKillingsYears = NonJihadKillingsYears.drop(['Latitude', 'Longitude', 'Number of Terrorist Attacks'], axis = 1)\n",
    "\n",
    "#plotting JihadKillingsYears and NonJihadKillingsYears in the same graph to compare them \n",
    "fig, ax = plt.subplots(figsize=(12,5))\n",
    "ax.plot(JihadKillingsYears, color = '#228B22', linewidth = 3.0)\n",
    "ax.plot(NonJihadKillingsYears, color = '#C0C0C0', linewidth = 3.0)\n",
    "ax.set_xlabel('Year')\n",
    "ax.set_ylabel('Number of Fatalities')\n",
    "plt.title('Fatalities Caused by Jihadist and Non-Jihadist Attacks Over Time', fontsize= 15)\n",
    "plt.show()"
   ]
  },
  {
   "cell_type": "markdown",
   "metadata": {},
   "source": [
    "## Maps"
   ]
  },
  {
   "cell_type": "code",
   "execution_count": null,
   "metadata": {},
   "outputs": [],
   "source": [
    "#signing in with Plotly token\n",
    "py.sign_in('AndrePiolini', '7WymlJ4rlRgAoVzL8KNI')"
   ]
  },
  {
   "cell_type": "code",
   "execution_count": null,
   "metadata": {},
   "outputs": [],
   "source": [
    "#checking the Plotly version I am using \n",
    "print(plotly.__version__)"
   ]
  },
  {
   "cell_type": "code",
   "execution_count": null,
   "metadata": {},
   "outputs": [],
   "source": [
    "#plotting every single Jihadist attack on a map of Western Europe. Every dot indicates the city where the attack took place, \n",
    "#the type of attack, the target and the number of people killed (if any) in the attack\n",
    "#in this case, Jihadist terrorist attacks will be displayed in black\n",
    "fig = px.scatter_mapbox(OnlyJihad, lat=\"Latitude\", lon=\"Longitude\", hover_name=\"City\", hover_data=[\"Attack Type\", \"Target Type\", \"Number of People Killed\"],\n",
    "                        color_discrete_sequence=[\"black\"], zoom=3, height=500)\n",
    "#setting the type of map\n",
    "fig.update_layout(mapbox_style=\"open-street-map\")\n",
    "#setting the map's margins\n",
    "fig.update_layout(margin={\"r\":0,\"t\":0,\"l\":0,\"b\":0})\n",
    "fig.show()"
   ]
  },
  {
   "cell_type": "code",
   "execution_count": null,
   "metadata": {},
   "outputs": [],
   "source": [
    "#plotting every single Non-Jihadist attack on a map of Western Europe. Every dot indicates the city where the attack took place, \n",
    "#the type of attack, the target and the number of people killed (if any) in the attack\n",
    "#in this case, Non-Jihadist terrorist attacks will be displayed in red\n",
    "fig = px.scatter_mapbox(OnlyNonJihad, lat=\"Latitude\", lon=\"Longitude\", hover_name=\"City\", hover_data=[\"Attack Type\", \"Target Type\", \"Number of People Killed\"],\n",
    "                        color_discrete_sequence=[\"red\"], zoom=3, height=500)\n",
    "#setting the type of map\n",
    "fig.update_layout(mapbox_style=\"open-street-map\")\n",
    "#setting the map's margins\n",
    "fig.update_layout(margin={\"r\":0,\"t\":0,\"l\":0,\"b\":0})\n",
    "fig.show()"
   ]
  },
  {
   "cell_type": "code",
   "execution_count": null,
   "metadata": {},
   "outputs": [],
   "source": [
    "#plotting a density map displaying the number of Jihadist terrorist attacks\n",
    "fig = go.Figure(go.Densitymapbox(lat=OnlyJihad.Latitude, lon=OnlyJihad.Longitude, z=OnlyJihad['Number of Terrorist Attacks'], \n",
    "                                 radius=10, zmin = 0, zmax = 3))\n",
    "#setting the type of map, the center and the zoom level\n",
    "fig.update_layout(mapbox_style=\"open-street-map\", mapbox_center_lon=7.28138, mapbox_center_lat = 47.33571, mapbox_zoom=3)\n",
    "#setting the map's margins\n",
    "fig.update_layout(margin={\"r\":0,\"t\":0,\"l\":0,\"b\":0})\n",
    "fig.show()"
   ]
  },
  {
   "cell_type": "code",
   "execution_count": null,
   "metadata": {},
   "outputs": [],
   "source": [
    "#plotting a density map displaying the number of Non-Jihadist terrorist attacks\n",
    "fig = go.Figure(go.Densitymapbox(lat=OnlyNonJihad.Latitude, lon=OnlyNonJihad.Longitude, \n",
    "                                 z=OnlyNonJihad['Number of Terrorist Attacks'], radius=10, zmin = 0, zmax = 5))\n",
    "#setting the type of map, the center and the zoom level\n",
    "fig.update_layout(mapbox_style=\"open-street-map\", height = 500, mapbox_center_lon=7.28138, mapbox_center_lat = 47.33571, \n",
    "                  mapbox_zoom=3)\n",
    "#setting the map's margins\n",
    "fig.update_layout(margin={\"r\":0,\"t\":0,\"l\":0,\"b\":0})\n",
    "fig.show()"
   ]
  },
  {
   "cell_type": "markdown",
   "metadata": {},
   "source": [
    "## Conclusions\n",
    "\n",
    "- Countries with the highest number of second-generation Muslim experienced more Jihadist terrorism than others. It will likely be this way in the future as well although there are other important factors that might influence the rise of Islamist extremism.\n",
    "- Divided countries and/or countries with serious socioeconomic problems experienced more Jihadist terrorism than others. It will most likely remain this way in the future as well.\n",
    "- Armed assault is the preferred modus operandi of Jihadist terrorists, as their goal is usually to carry out mass casualties. \n",
    "- Bombing/Explosions and facility and infrastructure attacks are the preferred modus operandi of Non-Jihadist terrorists. Non-jihadist attackers tend to carry out more symbolic attacks, to deliver a message or to threaten people and institutions. Facility and infrastructure attacks such as incendiary attacks and vandalism are very common among anarchist and political extremists to warn, intimidate and scare.\n",
    "- Jihadist attacks are overall more complex and well-articulated than Non-jihadist attacks, as indicated by the fact that Jihadists have often carried out attacks combining different types of attacks and hitting multiple targets.\n",
    "- Private citizens are the preferred target for both groups as they are the easiest targets to hit since for the state it is realistically impossible to protect every single person. It will always be this way.\n",
    "- Police and the military are common targets for both groups. They represent the armed branch of the state all terrorist fight against. \n",
    "- Jihadists have no interest in targeting governmental targets, whereas Non-jihadists target the government frequently with symbolic attacks.\n",
    "- Jihadist attacks are high-lethality strikes, whose goal is killing indiscriminately the largest number of people possible. Non-Jihadists usually carry out symbolic strikes, and their goal is to dramatize and call the attention to their ideals.\n",
    "- The frequency of attacks and the number of deaths of both Jihadist and Non-Jihadist attacks have been declining. This is due to an improved effort of intelligence and law enforcement agencies and some external facts, such as the partial defeat of ISIS in Syria. In the short term, both the frequency of attacks and the number of deaths will likely keep following this trend. \n",
    "\n",
    "\n"
   ]
  }
 ],
 "metadata": {
  "kernelspec": {
   "display_name": "Python 3",
   "language": "python",
   "name": "python3"
  },
  "language_info": {
   "codemirror_mode": {
    "name": "ipython",
    "version": 3
   },
   "file_extension": ".py",
   "mimetype": "text/x-python",
   "name": "python",
   "nbconvert_exporter": "python",
   "pygments_lexer": "ipython3",
   "version": "3.7.3"
  }
 },
 "nbformat": 4,
 "nbformat_minor": 2
}
